{
  "nbformat": 4,
  "nbformat_minor": 0,
  "metadata": {
    "colab": {
      "provenance": [],
      "include_colab_link": true
    },
    "kernelspec": {
      "name": "python3",
      "display_name": "Python 3"
    },
    "language_info": {
      "name": "python"
    }
  },
  "cells": [
    {
      "cell_type": "markdown",
      "metadata": {
        "id": "view-in-github",
        "colab_type": "text"
      },
      "source": [
        "<a href=\"https://colab.research.google.com/github/mustafabozkaya/LLM-Bootcamp/blob/main/Module1/Quickstart%20guide%20to%20PyTorch%20Basics.ipynb\" target=\"_parent\"><img src=\"https://colab.research.google.com/assets/colab-badge.svg\" alt=\"Open In Colab\"/></a>"
      ]
    },
    {
      "cell_type": "markdown",
      "source": [
        "# Quickstart guide to PyTorch Basics\n",
        "\n",
        "LLM Bootcamp requires you to have PyTorch basics. In this Notebook, we have attached a Quickstart guide to get started with PyTorch along with important resources to get started with PyTorch.\n",
        "\n",
        "##⚡️LLM Bootcamp\n",
        "Before proceeding with the further modules, we expect you to atleast have basic knowledge of PyTorch. This notebook is a Quickstart guide for PyTorch Basics\n",
        "\n",
        "If you are comfortable with PyTorch you can skip this notebook.\n",
        "\n",
        "**Get Started with PyTorch**\n",
        "\n",
        "An open source machine learning framework that accelerates the path from research prototyping to production deployment.\n",
        "\n",
        "<code>pip install torch<code\\>\n",
        "\n",
        "**Table of Contents:**\n",
        "\n",
        "- Basics\n",
        "\n",
        "- Tensor Operations\n",
        "\n",
        "- Extra PyTorch operations based on Tensor Shape\n",
        "\n",
        "- Ouickstart- Build A Neural Network"
      ],
      "metadata": {
        "id": "KpHtA6MFNIAd"
      }
    },
    {
      "cell_type": "code",
      "source": [
        "import torch\n",
        "import numpy as np"
      ],
      "metadata": {
        "id": "F8wtIG0oHvDe"
      },
      "execution_count": 1,
      "outputs": []
    },
    {
      "cell_type": "markdown",
      "source": [
        "##Basics\n",
        "Just like Tensorflow, we shall continue playing with Tensors in PyTorch as well."
      ],
      "metadata": {
        "id": "zjMwEzKL8Rc6"
      }
    },
    {
      "cell_type": "code",
      "source": [
        "\n",
        "#Create Tensor From Data(List)\n",
        "data = [[1, 2],[3, 4]]\n",
        "tensors = torch.tensor(data)\n",
        "tensors"
      ],
      "metadata": {
        "id": "SYTsICOL7F7E",
        "outputId": "eba651d7-e677-42c6-9bb4-43483e55bfec",
        "colab": {
          "base_uri": "https://localhost:8080/"
        }
      },
      "execution_count": 4,
      "outputs": [
        {
          "output_type": "execute_result",
          "data": {
            "text/plain": [
              "tensor([[1, 2],\n",
              "        [3, 4]])"
            ]
          },
          "metadata": {},
          "execution_count": 4
        }
      ]
    },
    {
      "cell_type": "code",
      "source": [],
      "metadata": {
        "id": "CT64_RSH8RET"
      },
      "execution_count": null,
      "outputs": []
    }
  ]
}