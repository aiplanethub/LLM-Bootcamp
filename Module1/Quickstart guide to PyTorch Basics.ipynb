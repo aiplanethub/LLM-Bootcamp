{
  "nbformat": 4,
  "nbformat_minor": 0,
  "metadata": {
    "colab": {
      "provenance": [],
      "include_colab_link": true
    },
    "kernelspec": {
      "name": "python3",
      "display_name": "Python 3"
    },
    "language_info": {
      "name": "python"
    }
  },
  "cells": [
    {
      "cell_type": "markdown",
      "metadata": {
        "id": "view-in-github",
        "colab_type": "text"
      },
      "source": [
        "<a href=\"https://colab.research.google.com/github/mustafabozkaya/LLM-Bootcamp/blob/main/Module1/Quickstart%20guide%20to%20PyTorch%20Basics.ipynb\" target=\"_parent\"><img src=\"https://colab.research.google.com/assets/colab-badge.svg\" alt=\"Open In Colab\"/></a>"
      ]
    },
    {
      "cell_type": "markdown",
      "source": [
        "# Quickstart guide to PyTorch Basics\n",
        "\n",
        "LLM Bootcamp requires you to have PyTorch basics. In this Notebook, we have attached a Quickstart guide to get started with PyTorch along with important resources to get started with PyTorch.\n",
        "\n",
        "##⚡️LLM Bootcamp\n",
        "Before proceeding with the further modules, we expect you to atleast have basic knowledge of PyTorch. This notebook is a Quickstart guide for PyTorch Basics\n",
        "\n",
        "If you are comfortable with PyTorch you can skip this notebook.\n",
        "\n",
        "**Get Started with PyTorch**\n",
        "\n",
        "An open source machine learning framework that accelerates the path from research prototyping to production deployment.\n",
        "\n",
        "<code>pip install torch<code\\>\n",
        "\n",
        "**Table of Contents:**\n",
        "\n",
        "- Basics\n",
        "\n",
        "- Tensor Operations\n",
        "\n",
        "- Extra PyTorch operations based on Tensor Shape\n",
        "\n",
        "- Ouickstart- Build A Neural Network"
      ],
      "metadata": {
        "id": "KpHtA6MFNIAd"
      }
    },
    {
      "cell_type": "code",
      "source": [
        "import torch\n",
        "import numpy as np"
      ],
      "metadata": {
        "id": "F8wtIG0oHvDe"
      },
      "execution_count": null,
      "outputs": []
    },
    {
      "cell_type": "markdown",
      "source": [
        "### Basics\n",
        "Just like Tensorflow, we shall continue playing with Tensors in PyTorch as well."
      ],
      "metadata": {
        "id": "zjMwEzKL8Rc6"
      }
    },
    {
      "cell_type": "code",
      "source": [
        "\n",
        "#Create Tensor From Data(List)\n",
        "data = [[1, 2],[3, 4]]\n",
        "tensors = torch.tensor(data)\n",
        "tensors"
      ],
      "metadata": {
        "id": "SYTsICOL7F7E",
        "outputId": "eba651d7-e677-42c6-9bb4-43483e55bfec",
        "colab": {
          "base_uri": "https://localhost:8080/"
        }
      },
      "execution_count": null,
      "outputs": [
        {
          "output_type": "execute_result",
          "data": {
            "text/plain": [
              "tensor([[1, 2],\n",
              "        [3, 4]])"
            ]
          },
          "metadata": {},
          "execution_count": 4
        }
      ]
    },
    {
      "cell_type": "code",
      "source": [
        "#Create from NumPy\n",
        "np_array = np.arange(10)\n",
        "tensor_np = torch.from_numpy(np_array)\n",
        "tensor_np"
      ],
      "metadata": {
        "id": "CT64_RSH8RET",
        "colab": {
          "base_uri": "https://localhost:8080/"
        },
        "outputId": "707a0b71-cee6-4db1-9b70-fbe53fc20a02"
      },
      "execution_count": 5,
      "outputs": [
        {
          "output_type": "execute_result",
          "data": {
            "text/plain": [
              "tensor([0, 1, 2, 3, 4, 5, 6, 7, 8, 9])"
            ]
          },
          "metadata": {},
          "execution_count": 5
        }
      ]
    },
    {
      "cell_type": "markdown",
      "source": [
        "#### Shape, ndim and dtype\n",
        "This is same as we saw in Numpy Tutorial - Day 1"
      ],
      "metadata": {
        "id": "1mxBeeZ1_oWG"
      }
    },
    {
      "cell_type": "code",
      "source": [
        "\n",
        "\n",
        "tensor_np.shape"
      ],
      "metadata": {
        "colab": {
          "base_uri": "https://localhost:8080/"
        },
        "id": "2OYIpc35_Oyb",
        "outputId": "316f5701-b9c6-4552-8cef-0d67f0a33884"
      },
      "execution_count": 8,
      "outputs": [
        {
          "output_type": "execute_result",
          "data": {
            "text/plain": [
              "torch.Size([10])"
            ]
          },
          "metadata": {},
          "execution_count": 8
        }
      ]
    },
    {
      "cell_type": "code",
      "source": [
        "\n",
        "tensor_np.ndim"
      ],
      "metadata": {
        "colab": {
          "base_uri": "https://localhost:8080/"
        },
        "id": "0Mhg28ES_WKC",
        "outputId": "e9a48202-5b08-4469-9e2e-70e28b09b70c"
      },
      "execution_count": 7,
      "outputs": [
        {
          "output_type": "execute_result",
          "data": {
            "text/plain": [
              "1"
            ]
          },
          "metadata": {},
          "execution_count": 7
        }
      ]
    },
    {
      "cell_type": "code",
      "source": [
        "tensor_np.dtype"
      ],
      "metadata": {
        "colab": {
          "base_uri": "https://localhost:8080/"
        },
        "id": "-c16Ns-I_4Mb",
        "outputId": "ed1ac72e-9a1c-41f5-a7d2-108445acedaa"
      },
      "execution_count": 9,
      "outputs": [
        {
          "output_type": "execute_result",
          "data": {
            "text/plain": [
              "torch.int64"
            ]
          },
          "metadata": {},
          "execution_count": 9
        }
      ]
    },
    {
      "cell_type": "markdown",
      "source": [
        "### Tensor_Operations"
      ],
      "metadata": {
        "id": "BSeEFDgk_-I_"
      }
    },
    {
      "cell_type": "code",
      "source": [
        "\n",
        "ten1 = torch.tensor([1,2,3])\n",
        "ten2 = torch.tensor([4,5,6])\n",
        "ten1+ten2"
      ],
      "metadata": {
        "colab": {
          "base_uri": "https://localhost:8080/"
        },
        "id": "W1-HyxDLA06O",
        "outputId": "494ea28c-c6de-4156-ee30-08916ded2c81"
      },
      "execution_count": 10,
      "outputs": [
        {
          "output_type": "execute_result",
          "data": {
            "text/plain": [
              "tensor([5, 7, 9])"
            ]
          },
          "metadata": {},
          "execution_count": 10
        }
      ]
    },
    {
      "cell_type": "code",
      "source": [
        "#You can either use + or torch.add to perform Tensor Additions\n",
        "\n",
        "torch.add(ten1,ten2)"
      ],
      "metadata": {
        "colab": {
          "base_uri": "https://localhost:8080/"
        },
        "id": "6kq2m9GFBa2V",
        "outputId": "b81598b5-1aa0-4adc-dc52-27963ddcdbcb"
      },
      "execution_count": 11,
      "outputs": [
        {
          "output_type": "execute_result",
          "data": {
            "text/plain": [
              "tensor([5, 7, 9])"
            ]
          },
          "metadata": {},
          "execution_count": 11
        }
      ]
    },
    {
      "cell_type": "code",
      "source": [
        "\n",
        "torch.sub(ten2,ten1)"
      ],
      "metadata": {
        "colab": {
          "base_uri": "https://localhost:8080/"
        },
        "id": "ZIy7uuodBjqq",
        "outputId": "3ec83fc5-df3d-4d6b-f110-d2d39380f0f0"
      },
      "execution_count": 12,
      "outputs": [
        {
          "output_type": "execute_result",
          "data": {
            "text/plain": [
              "tensor([3, 3, 3])"
            ]
          },
          "metadata": {},
          "execution_count": 12
        }
      ]
    },
    {
      "cell_type": "code",
      "source": [
        "\n",
        "torch.subtract(ten2,ten1)\n",
        "\n",
        "#You can either use - or torch.sub to perform Tensor Additions"
      ],
      "metadata": {
        "colab": {
          "base_uri": "https://localhost:8080/"
        },
        "id": "duDGqvRGBryr",
        "outputId": "2ffe6632-0b9c-4940-bcec-d97449afcf35"
      },
      "execution_count": 13,
      "outputs": [
        {
          "output_type": "execute_result",
          "data": {
            "text/plain": [
              "tensor([3, 3, 3])"
            ]
          },
          "metadata": {},
          "execution_count": 13
        }
      ]
    },
    {
      "cell_type": "code",
      "source": [
        "ten1 - ten2"
      ],
      "metadata": {
        "colab": {
          "base_uri": "https://localhost:8080/"
        },
        "id": "5zJkg6N2B6Oe",
        "outputId": "43c660a2-8e6a-4584-9a49-6f12576b60e5"
      },
      "execution_count": 14,
      "outputs": [
        {
          "output_type": "execute_result",
          "data": {
            "text/plain": [
              "tensor([-3, -3, -3])"
            ]
          },
          "metadata": {},
          "execution_count": 14
        }
      ]
    },
    {
      "cell_type": "code",
      "source": [
        "ten1 * 10"
      ],
      "metadata": {
        "colab": {
          "base_uri": "https://localhost:8080/"
        },
        "id": "sVQcvf4FB_Pv",
        "outputId": "6278a85e-0cc9-4660-f3da-6fe98abf53f6"
      },
      "execution_count": 15,
      "outputs": [
        {
          "output_type": "execute_result",
          "data": {
            "text/plain": [
              "tensor([10, 20, 30])"
            ]
          },
          "metadata": {},
          "execution_count": 15
        }
      ]
    },
    {
      "cell_type": "code",
      "source": [
        "ten1 **3"
      ],
      "metadata": {
        "colab": {
          "base_uri": "https://localhost:8080/"
        },
        "id": "wc51j9g0CUUM",
        "outputId": "b0935052-c580-45a6-b2e8-b26ab3fd3c4a"
      },
      "execution_count": 20,
      "outputs": [
        {
          "output_type": "execute_result",
          "data": {
            "text/plain": [
              "tensor([ 1,  8, 27])"
            ]
          },
          "metadata": {},
          "execution_count": 20
        }
      ]
    },
    {
      "cell_type": "code",
      "source": [
        "ten1 /2"
      ],
      "metadata": {
        "colab": {
          "base_uri": "https://localhost:8080/"
        },
        "id": "UHfyAuBZCCP9",
        "outputId": "d33a701b-f40d-4729-e701-a2f57241228a"
      },
      "execution_count": 18,
      "outputs": [
        {
          "output_type": "execute_result",
          "data": {
            "text/plain": [
              "tensor([0.5000, 1.0000, 1.5000])"
            ]
          },
          "metadata": {},
          "execution_count": 18
        }
      ]
    },
    {
      "cell_type": "code",
      "source": [
        "ten1 // 2"
      ],
      "metadata": {
        "colab": {
          "base_uri": "https://localhost:8080/"
        },
        "id": "mjzlUy2UCFHY",
        "outputId": "18503bf7-55a2-492c-99d0-b8ecf54a2e91"
      },
      "execution_count": 17,
      "outputs": [
        {
          "output_type": "execute_result",
          "data": {
            "text/plain": [
              "tensor([0, 1, 1])"
            ]
          },
          "metadata": {},
          "execution_count": 17
        }
      ]
    },
    {
      "cell_type": "code",
      "source": [
        "ten1 %2"
      ],
      "metadata": {
        "colab": {
          "base_uri": "https://localhost:8080/"
        },
        "id": "-PEjPTokCOTK",
        "outputId": "e6fc715f-5370-44d7-9902-2384c8a2c848"
      },
      "execution_count": 19,
      "outputs": [
        {
          "output_type": "execute_result",
          "data": {
            "text/plain": [
              "tensor([1, 0, 1])"
            ]
          },
          "metadata": {},
          "execution_count": 19
        }
      ]
    },
    {
      "cell_type": "markdown",
      "source": [
        "#### Matrix Multiplication"
      ],
      "metadata": {
        "id": "mQRmzTh_Frzt"
      }
    },
    {
      "cell_type": "markdown",
      "source": [
        "**very important operation in Deep Learning- Matrix Multiplication**\n",
        "- Rules of Matrix Multiplication:\n",
        "\n",
        "\n",
        "(3,2) * (3,2) = Error\n",
        "\n",
        "(4,3) * (3,2) = (4,2)\n",
        "\n",
        "(2,2) * (2,5) = (2,5)"
      ],
      "metadata": {
        "id": "xLvpduk6CmK3"
      }
    },
    {
      "cell_type": "code",
      "source": [
        "torch.matmul(ten1,ten2)"
      ],
      "metadata": {
        "colab": {
          "base_uri": "https://localhost:8080/"
        },
        "id": "pLTg9e9mDweX",
        "outputId": "4be2e661-9c9e-45de-e63d-7fb7174c5fb0"
      },
      "execution_count": 21,
      "outputs": [
        {
          "output_type": "execute_result",
          "data": {
            "text/plain": [
              "tensor(32)"
            ]
          },
          "metadata": {},
          "execution_count": 21
        }
      ]
    },
    {
      "cell_type": "code",
      "source": [
        "matrix4_3 = torch.tensor([[1,2,3], [4,5,6], [7,8,9], [10,11,12]])\n",
        "matrix4_3.shape"
      ],
      "metadata": {
        "colab": {
          "base_uri": "https://localhost:8080/"
        },
        "id": "qkoSxW6nD3vS",
        "outputId": "7f009dbf-eb22-4f6e-d0d7-9fa3c2b158a1"
      },
      "execution_count": 23,
      "outputs": [
        {
          "output_type": "execute_result",
          "data": {
            "text/plain": [
              "torch.Size([4, 3])"
            ]
          },
          "metadata": {},
          "execution_count": 23
        }
      ]
    },
    {
      "cell_type": "code",
      "source": [
        "matrix3_2 = torch.tensor([[1,2], [3,4], [5,6]])\n",
        "matrix3_2.shape"
      ],
      "metadata": {
        "colab": {
          "base_uri": "https://localhost:8080/"
        },
        "id": "PxraE7LKEAWA",
        "outputId": "0de72229-66c5-4790-9168-d800c8eb1627"
      },
      "execution_count": 24,
      "outputs": [
        {
          "output_type": "execute_result",
          "data": {
            "text/plain": [
              "torch.Size([3, 2])"
            ]
          },
          "metadata": {},
          "execution_count": 24
        }
      ]
    },
    {
      "cell_type": "code",
      "source": [
        "result = torch.matmul(matrix4_3,matrix3_2) #=> will result in (4,2)\n",
        "result"
      ],
      "metadata": {
        "colab": {
          "base_uri": "https://localhost:8080/"
        },
        "id": "y1k1dhMiENfH",
        "outputId": "6c3b5006-2617-4a28-a421-a3cd37d6aac3"
      },
      "execution_count": 25,
      "outputs": [
        {
          "output_type": "execute_result",
          "data": {
            "text/plain": [
              "tensor([[ 22,  28],\n",
              "        [ 49,  64],\n",
              "        [ 76, 100],\n",
              "        [103, 136]])"
            ]
          },
          "metadata": {},
          "execution_count": 25
        }
      ]
    },
    {
      "cell_type": "code",
      "source": [
        "result.shape"
      ],
      "metadata": {
        "colab": {
          "base_uri": "https://localhost:8080/"
        },
        "id": "lFiPDmqiEfZv",
        "outputId": "54ccb695-c1b0-4048-bf4a-b8ea66af4c10"
      },
      "execution_count": 26,
      "outputs": [
        {
          "output_type": "execute_result",
          "data": {
            "text/plain": [
              "torch.Size([4, 2])"
            ]
          },
          "metadata": {},
          "execution_count": 26
        }
      ]
    },
    {
      "cell_type": "code",
      "source": [
        "#You can also use torch.mm() which is a short for torch.matmul()\n",
        "\n",
        "torch.mm(matrix4_3,matrix3_2)"
      ],
      "metadata": {
        "colab": {
          "base_uri": "https://localhost:8080/"
        },
        "id": "nh654HoSEjXN",
        "outputId": "a8b40840-7b28-4cf3-e805-3be7a42037a9"
      },
      "execution_count": 28,
      "outputs": [
        {
          "output_type": "execute_result",
          "data": {
            "text/plain": [
              "tensor([[ 22,  28],\n",
              "        [ 49,  64],\n",
              "        [ 76, 100],\n",
              "        [103, 136]])"
            ]
          },
          "metadata": {},
          "execution_count": 28
        }
      ]
    },
    {
      "cell_type": "markdown",
      "source": [
        "\n",
        "#### Transpose of tensor"
      ],
      "metadata": {
        "id": "DU5LOx7KCjD_"
      }
    },
    {
      "cell_type": "code",
      "source": [
        "matrix4_3"
      ],
      "metadata": {
        "colab": {
          "base_uri": "https://localhost:8080/"
        },
        "id": "LvmC3gXOCSuU",
        "outputId": "52439ada-fbb3-466b-a9cb-c08b85df674b"
      },
      "execution_count": 29,
      "outputs": [
        {
          "output_type": "execute_result",
          "data": {
            "text/plain": [
              "tensor([[ 1,  2,  3],\n",
              "        [ 4,  5,  6],\n",
              "        [ 7,  8,  9],\n",
              "        [10, 11, 12]])"
            ]
          },
          "metadata": {},
          "execution_count": 29
        }
      ]
    },
    {
      "cell_type": "code",
      "source": [
        "matrix4_3.T"
      ],
      "metadata": {
        "colab": {
          "base_uri": "https://localhost:8080/"
        },
        "id": "rok53r5CFbjG",
        "outputId": "372be31c-d1bd-4c26-93c5-f0d0c7954932"
      },
      "execution_count": 30,
      "outputs": [
        {
          "output_type": "execute_result",
          "data": {
            "text/plain": [
              "tensor([[ 1,  4,  7, 10],\n",
              "        [ 2,  5,  8, 11],\n",
              "        [ 3,  6,  9, 12]])"
            ]
          },
          "metadata": {},
          "execution_count": 30
        }
      ]
    },
    {
      "cell_type": "code",
      "source": [
        "torch.t(matrix4_3)"
      ],
      "metadata": {
        "colab": {
          "base_uri": "https://localhost:8080/"
        },
        "id": "pkiyp0EvFhkh",
        "outputId": "2d4eae23-e86e-4729-d372-8f15f1511fd9"
      },
      "execution_count": 31,
      "outputs": [
        {
          "output_type": "execute_result",
          "data": {
            "text/plain": [
              "tensor([[ 1,  4,  7, 10],\n",
              "        [ 2,  5,  8, 11],\n",
              "        [ 3,  6,  9, 12]])"
            ]
          },
          "metadata": {},
          "execution_count": 31
        }
      ]
    },
    {
      "cell_type": "markdown",
      "source": [
        "\n",
        "### Extra_PyTorch_operations_based_on_Tensor_Shape\n",
        "- Zeros\n",
        "- Ones\n",
        "- Random\n",
        "- Full"
      ],
      "metadata": {
        "id": "UmwsW4h5F8_j"
      }
    },
    {
      "cell_type": "code",
      "source": [
        "tensorZeroes = torch.zeros((3,3))\n",
        "tensorZeroes"
      ],
      "metadata": {
        "colab": {
          "base_uri": "https://localhost:8080/"
        },
        "id": "KPi0VFjaILPJ",
        "outputId": "13a41598-efec-4484-de2a-75553db44663"
      },
      "execution_count": 32,
      "outputs": [
        {
          "output_type": "execute_result",
          "data": {
            "text/plain": [
              "tensor([[0., 0., 0.],\n",
              "        [0., 0., 0.],\n",
              "        [0., 0., 0.]])"
            ]
          },
          "metadata": {},
          "execution_count": 32
        }
      ]
    },
    {
      "cell_type": "code",
      "source": [
        "tensorOnes = torch.ones((3,3))\n",
        "tensorOnes"
      ],
      "metadata": {
        "colab": {
          "base_uri": "https://localhost:8080/"
        },
        "id": "gMnih1D1IRsg",
        "outputId": "881ec882-4c58-405c-abb4-a6a0cc259917"
      },
      "execution_count": 33,
      "outputs": [
        {
          "output_type": "execute_result",
          "data": {
            "text/plain": [
              "tensor([[1., 1., 1.],\n",
              "        [1., 1., 1.],\n",
              "        [1., 1., 1.]])"
            ]
          },
          "metadata": {},
          "execution_count": 33
        }
      ]
    },
    {
      "cell_type": "code",
      "source": [
        "tensorRandomN = torch.randn((3,3)) #includes negative tensors\n",
        "tensorRandomN"
      ],
      "metadata": {
        "colab": {
          "base_uri": "https://localhost:8080/"
        },
        "id": "OKXLYp6MIg-g",
        "outputId": "a2d2ec76-7fe7-4a69-bdee-486f21b68afa"
      },
      "execution_count": 34,
      "outputs": [
        {
          "output_type": "execute_result",
          "data": {
            "text/plain": [
              "tensor([[ 0.4039, -1.1849, -0.0229],\n",
              "        [ 1.9324, -1.4725,  0.2451],\n",
              "        [-1.7195,  1.8954,  0.0517]])"
            ]
          },
          "metadata": {},
          "execution_count": 34
        }
      ]
    },
    {
      "cell_type": "code",
      "source": [
        "tensorRandom = torch.rand((3,3)) #includes only positive tensors\n",
        "tensorRandom"
      ],
      "metadata": {
        "colab": {
          "base_uri": "https://localhost:8080/"
        },
        "id": "2JYQWB7pInG-",
        "outputId": "e85249d4-bc8d-444e-c6af-df2e610c3640"
      },
      "execution_count": 35,
      "outputs": [
        {
          "output_type": "execute_result",
          "data": {
            "text/plain": [
              "tensor([[0.0737, 0.7743, 0.8502],\n",
              "        [0.4037, 0.4170, 0.0665],\n",
              "        [0.5384, 0.3786, 0.1458]])"
            ]
          },
          "metadata": {},
          "execution_count": 35
        }
      ]
    },
    {
      "cell_type": "code",
      "source": [
        "\n",
        "\n",
        "customFill = torch.full((3,3),5)\n",
        "customFill"
      ],
      "metadata": {
        "colab": {
          "base_uri": "https://localhost:8080/"
        },
        "id": "HUbqpqGuIuuT",
        "outputId": "29e0e273-2a29-475f-9d8d-59251fcd24f3"
      },
      "execution_count": 36,
      "outputs": [
        {
          "output_type": "execute_result",
          "data": {
            "text/plain": [
              "tensor([[5, 5, 5],\n",
              "        [5, 5, 5],\n",
              "        [5, 5, 5]])"
            ]
          },
          "metadata": {},
          "execution_count": 36
        }
      ]
    },
    {
      "cell_type": "code",
      "source": [
        "\n",
        "initialFill = torch.full((3,3),0.01)\n",
        "initialFill"
      ],
      "metadata": {
        "colab": {
          "base_uri": "https://localhost:8080/"
        },
        "id": "TY9DNCDLI1Yf",
        "outputId": "451d50f4-97e3-4d84-fc0a-7b5f414bbefc"
      },
      "execution_count": 37,
      "outputs": [
        {
          "output_type": "execute_result",
          "data": {
            "text/plain": [
              "tensor([[0.0100, 0.0100, 0.0100],\n",
              "        [0.0100, 0.0100, 0.0100],\n",
              "        [0.0100, 0.0100, 0.0100]])"
            ]
          },
          "metadata": {},
          "execution_count": 37
        }
      ]
    },
    {
      "cell_type": "markdown",
      "source": [
        "###Quickstart\n",
        "#####Install **Torchvision**, The torchvision package consists of popular datasets, model architectures, and common image transformations for computer vision."
      ],
      "metadata": {
        "id": "pmDF_K9KI3vK"
      }
    },
    {
      "cell_type": "code",
      "source": [
        "\n",
        "pip install torchvision --no-deps"
      ],
      "metadata": {
        "id": "WVaRm8iRKI0F",
        "outputId": "bb09f5df-01c4-4b36-f6c9-a52a6afc6f11",
        "colab": {
          "base_uri": "https://localhost:8080/"
        }
      },
      "execution_count": 39,
      "outputs": [
        {
          "output_type": "stream",
          "name": "stdout",
          "text": [
            "Requirement already satisfied: torchvision in /usr/local/lib/python3.10/dist-packages (0.15.2+cu118)\n"
          ]
        }
      ]
    },
    {
      "cell_type": "code",
      "source": [
        "from torch.utils.data import DataLoader\n",
        "from torchvision import datasets\n",
        "from torchvision.transforms import ToTensor\n",
        "from torch import nn"
      ],
      "metadata": {
        "id": "pRDYln36KW17"
      },
      "execution_count": 40,
      "outputs": []
    },
    {
      "cell_type": "code",
      "source": [
        "# Download training data from open datasets.\n",
        "training_data = datasets.FashionMNIST(\n",
        "root=\"data\",\n",
        "train=True,\n",
        "download=True,\n",
        "transform=ToTensor(),\n",
        ")"
      ],
      "metadata": {
        "id": "xpgbTNOHKS96",
        "outputId": "b2ac02c1-a8d2-43b6-fa56-f648fcadebd7",
        "colab": {
          "base_uri": "https://localhost:8080/"
        }
      },
      "execution_count": 41,
      "outputs": [
        {
          "output_type": "stream",
          "name": "stdout",
          "text": [
            "Downloading http://fashion-mnist.s3-website.eu-central-1.amazonaws.com/train-images-idx3-ubyte.gz\n",
            "Downloading http://fashion-mnist.s3-website.eu-central-1.amazonaws.com/train-images-idx3-ubyte.gz to data/FashionMNIST/raw/train-images-idx3-ubyte.gz\n"
          ]
        },
        {
          "output_type": "stream",
          "name": "stderr",
          "text": [
            "100%|██████████| 26421880/26421880 [00:02<00:00, 12395433.39it/s]\n"
          ]
        },
        {
          "output_type": "stream",
          "name": "stdout",
          "text": [
            "Extracting data/FashionMNIST/raw/train-images-idx3-ubyte.gz to data/FashionMNIST/raw\n",
            "\n",
            "Downloading http://fashion-mnist.s3-website.eu-central-1.amazonaws.com/train-labels-idx1-ubyte.gz\n",
            "Downloading http://fashion-mnist.s3-website.eu-central-1.amazonaws.com/train-labels-idx1-ubyte.gz to data/FashionMNIST/raw/train-labels-idx1-ubyte.gz\n"
          ]
        },
        {
          "output_type": "stream",
          "name": "stderr",
          "text": [
            "100%|██████████| 29515/29515 [00:00<00:00, 210992.67it/s]\n"
          ]
        },
        {
          "output_type": "stream",
          "name": "stdout",
          "text": [
            "Extracting data/FashionMNIST/raw/train-labels-idx1-ubyte.gz to data/FashionMNIST/raw\n",
            "\n",
            "Downloading http://fashion-mnist.s3-website.eu-central-1.amazonaws.com/t10k-images-idx3-ubyte.gz\n",
            "Downloading http://fashion-mnist.s3-website.eu-central-1.amazonaws.com/t10k-images-idx3-ubyte.gz to data/FashionMNIST/raw/t10k-images-idx3-ubyte.gz\n"
          ]
        },
        {
          "output_type": "stream",
          "name": "stderr",
          "text": [
            "100%|██████████| 4422102/4422102 [00:01<00:00, 3944607.71it/s]\n"
          ]
        },
        {
          "output_type": "stream",
          "name": "stdout",
          "text": [
            "Extracting data/FashionMNIST/raw/t10k-images-idx3-ubyte.gz to data/FashionMNIST/raw\n",
            "\n",
            "Downloading http://fashion-mnist.s3-website.eu-central-1.amazonaws.com/t10k-labels-idx1-ubyte.gz\n",
            "Downloading http://fashion-mnist.s3-website.eu-central-1.amazonaws.com/t10k-labels-idx1-ubyte.gz to data/FashionMNIST/raw/t10k-labels-idx1-ubyte.gz\n"
          ]
        },
        {
          "output_type": "stream",
          "name": "stderr",
          "text": [
            "100%|██████████| 5148/5148 [00:00<00:00, 17742216.10it/s]"
          ]
        },
        {
          "output_type": "stream",
          "name": "stdout",
          "text": [
            "Extracting data/FashionMNIST/raw/t10k-labels-idx1-ubyte.gz to data/FashionMNIST/raw\n",
            "\n"
          ]
        },
        {
          "output_type": "stream",
          "name": "stderr",
          "text": [
            "\n"
          ]
        }
      ]
    },
    {
      "cell_type": "code",
      "source": [
        "type(training_data)"
      ],
      "metadata": {
        "id": "CFtZ9aHUKemF",
        "outputId": "d2def6a5-32a8-41d1-e03d-ff20d04b5f1b",
        "colab": {
          "base_uri": "https://localhost:8080/"
        }
      },
      "execution_count": 43,
      "outputs": [
        {
          "output_type": "execute_result",
          "data": {
            "text/plain": [
              "torchvision.datasets.mnist.FashionMNIST"
            ]
          },
          "metadata": {},
          "execution_count": 43
        }
      ]
    },
    {
      "cell_type": "code",
      "source": [
        "train_data[0]"
      ],
      "metadata": {
        "id": "9_ljYopbKm_g",
        "outputId": "41fbbd0e-7cd5-4571-cd2b-dbdb52d2a1a3",
        "colab": {
          "base_uri": "https://localhost:8080/",
          "height": 263
        }
      },
      "execution_count": 45,
      "outputs": [
        {
          "output_type": "error",
          "ename": "NameError",
          "evalue": "ignored",
          "traceback": [
            "\u001b[0;31m---------------------------------------------------------------------------\u001b[0m",
            "\u001b[0;31mNameError\u001b[0m                                 Traceback (most recent call last)",
            "\u001b[0;32m<ipython-input-45-320d84069262>\u001b[0m in \u001b[0;36m<cell line: 1>\u001b[0;34m()\u001b[0m\n\u001b[0;32m----> 1\u001b[0;31m \u001b[0mtrain_data\u001b[0m\u001b[0;34m[\u001b[0m\u001b[0;36m0\u001b[0m\u001b[0;34m]\u001b[0m\u001b[0;34m\u001b[0m\u001b[0;34m\u001b[0m\u001b[0m\n\u001b[0m",
            "\u001b[0;31mNameError\u001b[0m: name 'train_data' is not defined"
          ]
        }
      ]
    },
    {
      "cell_type": "code",
      "source": [
        "# Download test data from open datasets.\n",
        "test_data = datasets.FashionMNIST(\n",
        "root=\"data\",\n",
        "train=False,\n",
        "download=True,\n",
        "transform=ToTensor(),\n",
        ")"
      ],
      "metadata": {
        "id": "32_co4cLKcDY"
      },
      "execution_count": 42,
      "outputs": []
    }
  ]
}