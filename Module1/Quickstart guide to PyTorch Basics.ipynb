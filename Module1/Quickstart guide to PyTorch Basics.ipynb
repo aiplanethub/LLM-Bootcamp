{
  "nbformat": 4,
  "nbformat_minor": 0,
  "metadata": {
    "colab": {
      "provenance": [],
      "include_colab_link": true
    },
    "kernelspec": {
      "name": "python3",
      "display_name": "Python 3"
    },
    "language_info": {
      "name": "python"
    }
  },
  "cells": [
    {
      "cell_type": "markdown",
      "metadata": {
        "id": "view-in-github",
        "colab_type": "text"
      },
      "source": [
        "<a href=\"https://colab.research.google.com/github/mustafabozkaya/LLM-Bootcamp/blob/main/Module1/Quickstart%20guide%20to%20PyTorch%20Basics.ipynb\" target=\"_parent\"><img src=\"https://colab.research.google.com/assets/colab-badge.svg\" alt=\"Open In Colab\"/></a>"
      ]
    },
    {
      "cell_type": "markdown",
      "source": [
        "## Quickstart guide to PyTorch Basics\n",
        "LLM Bootcamp requires you to have PyTorch basics. In this Notebook, we have attached a Quickstart guide to get started with PyTorch along with important resources to get started with PyTorch.\n",
        "\n",
        "LLM Bootcamp\n",
        "Before proceeding with the further modules, we expect you to atleast have basic knowledge of PyTorch. This notebook is a Quickstart guide for PyTorch Basics\n",
        "\n",
        "If you are comfortable with PyTorch you can skip this notebook.\n",
        "\n",
        "Get Started with PyTorch\n",
        "An open source machine learning framework that accelerates the path from research prototyping to production deployment.\n",
        "\n",
        "pip install torch\n",
        "\n",
        "Table of Contents:\n",
        "Basics\n",
        "\n",
        "Tensor Operations\n",
        "\n",
        "Extra PyTorch operations based on Tensor Shape\n",
        "\n",
        "Ouickstart- Build A Neural Network"
      ],
      "metadata": {
        "id": "KpHtA6MFNIAd"
      }
    },
    {
      "cell_type": "code",
      "source": [
        "import torch\n",
        "import numpy as np"
      ],
      "metadata": {
        "id": "F8wtIG0oHvDe"
      },
      "execution_count": 1,
      "outputs": []
    }
  ]
}